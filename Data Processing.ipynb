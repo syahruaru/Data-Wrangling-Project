{
 "cells": [
  {
   "cell_type": "code",
   "execution_count": 1,
   "id": "307ebe38",
   "metadata": {
    "scrolled": true
   },
   "outputs": [],
   "source": [
    "#!pip install seaborn"
   ]
  },
  {
   "cell_type": "code",
   "execution_count": 1,
   "id": "59f4480b",
   "metadata": {},
   "outputs": [],
   "source": [
    "import sqlite3\n",
    "import pandas as pd\n",
    "import seaborn as sns\n",
    "import matplotlib.pyplot as plt\n",
    "import numpy as np"
   ]
  },
  {
   "cell_type": "code",
   "execution_count": 2,
   "id": "cc2f27ea",
   "metadata": {},
   "outputs": [],
   "source": [
    "#import warnings\n",
    "import warnings\n",
    "warnings.filterwarnings('ignore')"
   ]
  },
  {
   "cell_type": "markdown",
   "id": "3fe7ed91",
   "metadata": {},
   "source": [
    "## Eksplorasi Database"
   ]
  },
  {
   "cell_type": "code",
   "execution_count": 3,
   "id": "ce71dc04",
   "metadata": {},
   "outputs": [],
   "source": [
    "conn = sqlite3.connect(\"olist.db\")"
   ]
  },
  {
   "cell_type": "code",
   "execution_count": 4,
   "id": "f73ae094",
   "metadata": {},
   "outputs": [
    {
     "name": "stdout",
     "output_type": "stream",
     "text": [
      "                                name\n",
      "0       olist_order_customer_dataset\n",
      "1                olist_order_dataset\n",
      "2        olist_order_reviews_dataset\n",
      "3       olist_order_payments_dataset\n",
      "4          olist_order_items_dataset\n",
      "5             olist_products_dataset\n",
      "6              olist_sellers_dataset\n",
      "7          olist_geolocation_dataset\n",
      "8  product_category_name_translation\n"
     ]
    }
   ],
   "source": [
    "#Eksplorasi database olist\n",
    "tableList = pd.read_sql(\"SELECT name FROM sqlite_master WHERE type='table';\", conn)\n",
    "print(tableList)"
   ]
  },
  {
   "cell_type": "code",
   "execution_count": 5,
   "id": "d6cfc813",
   "metadata": {},
   "outputs": [],
   "source": [
    "geolocation_query = 'SELECT * FROM olist_geolocation_dataset ogd ;'\n",
    "df_geolocation = pd.read_sql(geolocation_query, conn)"
   ]
  },
  {
   "cell_type": "code",
   "execution_count": 7,
   "id": "05339bfc",
   "metadata": {},
   "outputs": [],
   "source": [
    "customer_query = 'SELECT * FROM olist_order_customer_dataset oocd ;'\n",
    "df_customer = pd.read_sql(customer_query, conn)"
   ]
  },
  {
   "cell_type": "code",
   "execution_count": 9,
   "id": "430e70b2",
   "metadata": {},
   "outputs": [],
   "source": [
    "order_query = 'SELECT * FROM olist_order_dataset ood ;'\n",
    "df_order = pd.read_sql(order_query,conn)"
   ]
  },
  {
   "cell_type": "code",
   "execution_count": 11,
   "id": "306919c2",
   "metadata": {},
   "outputs": [],
   "source": [
    "items_query = 'SELECT * FROM olist_order_items_dataset ooid ;'\n",
    "df_items = pd.read_sql(items_query, conn)"
   ]
  },
  {
   "cell_type": "code",
   "execution_count": 13,
   "id": "eca4669a",
   "metadata": {},
   "outputs": [],
   "source": [
    "payments_query = 'SELECT * FROM olist_order_payments_dataset oopd ;'\n",
    "df_payments = pd.read_sql(payments_query, conn)"
   ]
  },
  {
   "cell_type": "code",
   "execution_count": 15,
   "id": "f92301c1",
   "metadata": {},
   "outputs": [],
   "source": [
    "review_query = 'SELECT * FROM olist_order_reviews_dataset oord ;'\n",
    "df_review = pd.read_sql(review_query, conn)"
   ]
  },
  {
   "cell_type": "code",
   "execution_count": 17,
   "id": "d80e2ec9",
   "metadata": {},
   "outputs": [],
   "source": [
    "products_query = 'SELECT * FROM olist_products_dataset opd ;'\n",
    "pd_products = pd.read_sql(products_query, conn)"
   ]
  },
  {
   "cell_type": "code",
   "execution_count": 19,
   "id": "02b632dc",
   "metadata": {},
   "outputs": [],
   "source": [
    "sellers_query = 'SELECT * FROM olist_sellers_dataset osd ;'\n",
    "df_sellers = pd.read_sql(sellers_query, conn)"
   ]
  },
  {
   "cell_type": "code",
   "execution_count": 21,
   "id": "d7a9d69b",
   "metadata": {},
   "outputs": [],
   "source": [
    "translationCat_query = 'SELECT * FROM product_category_name_translation'\n",
    "df_translationCat = pd.read_sql(translationCat_query, conn)"
   ]
  },
  {
   "cell_type": "markdown",
   "id": "43d19b0a",
   "metadata": {},
   "source": [
    "## Top 10 Kategori Produk Paling Laku"
   ]
  },
  {
   "cell_type": "markdown",
   "id": "e9a24d81",
   "metadata": {},
   "source": [
    "### Akses Database"
   ]
  },
  {
   "cell_type": "code",
   "execution_count": 47,
   "id": "fc5c7518",
   "metadata": {},
   "outputs": [],
   "source": [
    "top10_query = \"\"\"\n",
    "SELECT *\n",
    "FROM \n",
    "    olist_order_items_dataset ooid\n",
    "join \n",
    "    olist_products_dataset opd using(product_id)\n",
    "join\n",
    "    product_category_name_translation using(product_category_name)\n",
    "\"\"\"\n",
    "\n",
    "df_top10 = pd.read_sql(top10_query, conn)"
   ]
  },
  {
   "cell_type": "markdown",
   "id": "d01a6380",
   "metadata": {},
   "source": [
    "### EDA"
   ]
  },
  {
   "cell_type": "code",
   "execution_count": 48,
   "id": "9af9757b",
   "metadata": {},
   "outputs": [
    {
     "name": "stdout",
     "output_type": "stream",
     "text": [
      "<class 'pandas.core.frame.DataFrame'>\n",
      "RangeIndex: 111023 entries, 0 to 111022\n",
      "Data columns (total 19 columns):\n",
      " #   Column                         Non-Null Count   Dtype  \n",
      "---  ------                         --------------   -----  \n",
      " 0   index                          111023 non-null  int64  \n",
      " 1   order_id                       111023 non-null  object \n",
      " 2   order_item_id                  111023 non-null  int64  \n",
      " 3   product_id                     111023 non-null  object \n",
      " 4   seller_id                      111023 non-null  object \n",
      " 5   shipping_limit_date            111023 non-null  object \n",
      " 6   price                          111023 non-null  float64\n",
      " 7   freight_value                  111023 non-null  float64\n",
      " 8   index                          111023 non-null  int64  \n",
      " 9   product_category_name          111023 non-null  object \n",
      " 10  product_name_lenght            111023 non-null  float64\n",
      " 11  product_description_lenght     111023 non-null  float64\n",
      " 12  product_photos_qty             111023 non-null  float64\n",
      " 13  product_weight_g               111022 non-null  float64\n",
      " 14  product_length_cm              111022 non-null  float64\n",
      " 15  product_height_cm              111022 non-null  float64\n",
      " 16  product_width_cm               111022 non-null  float64\n",
      " 17  index                          111023 non-null  int64  \n",
      " 18  product_category_name_english  111023 non-null  object \n",
      "dtypes: float64(9), int64(4), object(6)\n",
      "memory usage: 16.1+ MB\n"
     ]
    }
   ],
   "source": [
    "df_top10.info()"
   ]
  },
  {
   "cell_type": "code",
   "execution_count": 49,
   "id": "26b60f17",
   "metadata": {},
   "outputs": [
    {
     "data": {
      "text/plain": [
       "index                            0\n",
       "order_id                         0\n",
       "order_item_id                    0\n",
       "product_id                       0\n",
       "seller_id                        0\n",
       "shipping_limit_date              0\n",
       "price                            0\n",
       "freight_value                    0\n",
       "index                            0\n",
       "product_category_name            0\n",
       "product_name_lenght              0\n",
       "product_description_lenght       0\n",
       "product_photos_qty               0\n",
       "product_weight_g                 1\n",
       "product_length_cm                1\n",
       "product_height_cm                1\n",
       "product_width_cm                 1\n",
       "index                            0\n",
       "product_category_name_english    0\n",
       "dtype: int64"
      ]
     },
     "execution_count": 49,
     "metadata": {},
     "output_type": "execute_result"
    }
   ],
   "source": [
    "# Mencari nilai null\n",
    "df_top10.isna().sum()"
   ]
  },
  {
   "cell_type": "code",
   "execution_count": 50,
   "id": "cd953b48",
   "metadata": {},
   "outputs": [
    {
     "data": {
      "text/plain": [
       "0"
      ]
     },
     "execution_count": 50,
     "metadata": {},
     "output_type": "execute_result"
    }
   ],
   "source": [
    "# Mencari Duplicate Data\n",
    "df_top10.duplicated().sum()"
   ]
  },
  {
   "cell_type": "code",
   "execution_count": 51,
   "id": "a2a88c47",
   "metadata": {},
   "outputs": [
    {
     "data": {
      "image/png": "[encoded data removed]",
      "text/plain": [
       "<Figure size 640x480 with 1 Axes>"
      ]
     },
     "metadata": {},
     "output_type": "display_data"
    }
   ],
   "source": [
    "# Menghitung jumlah produk dalam masing-masing kategori\n",
    "category_counts = df_top10['product_category_name_english'].value_counts()\n",
    "\n",
    "# Mengurutkan kategori produk berdasarkan jumlah produk\n",
    "sorted_categories = category_counts.sort_values(ascending=False)\n",
    "\n",
    "# Mengambil 10 kategori produk teratas\n",
    "top_10_categories = sorted_categories.head(10)\n",
    "\n",
    "# Membuat grafik barplot\n",
    "sns.barplot(y=top_10_categories.index, x=top_10_categories.values, palette=\"deep\")\n",
    "\n",
    "# Atur label sumbu y\n",
    "plt.ylabel(\"Kategori Produk\")\n",
    "\n",
    "# Atur label sumbu x\n",
    "plt.xlabel(\"Jumlah Produk\")\n",
    "\n",
    "# Menampilkan grafik\n",
    "plt.show()"
   ]
  },
  {
   "cell_type": "markdown",
   "id": "167fa622",
   "metadata": {},
   "source": [
    "### Analisis dan Perbandingan dengan Rata-Rata Harga Produk"
   ]
  },
  {
   "cell_type": "code",
   "execution_count": 31,
   "id": "b42f819e",
   "metadata": {},
   "outputs": [
    {
     "data": {
      "image/png": "[encoded data removed]",
      "text/plain": [
       "<Figure size 640x480 with 1 Axes>"
      ]
     },
     "metadata": {},
     "output_type": "display_data"
    }
   ],
   "source": [
    "# Mengambil data untuk 10 kategori produk teratas\n",
    "df_top10 = df_top10[df_top10['product_category_name_english'].isin(top_10_categories.index)]\n",
    "\n",
    "# harga rata2\n",
    "avg_price = df_top10.groupby(\"product_category_name_english\")[\"price\"].mean()\n",
    "\n",
    "# Membuat grafik barplot dengan harga rata-rata per kategori produk\n",
    "sns.barplot(y=\"product_category_name_english\", x=\"price\", data=df_top10, estimator=np.mean, palette=\"deep\", order=avg_price.sort_values(ascending=False).index)\n",
    "\n",
    "# Atur label sumbu x\n",
    "plt.ylabel(\"Kategori Produk\")\n",
    "\n",
    "# Atur label sumbu y\n",
    "plt.xlabel(\"Harga Rata-Rata\")\n",
    "\n",
    "# Menampilkan grafik\n",
    "plt.show()\n"
   ]
  },
  {
   "cell_type": "code",
   "execution_count": 32,
   "id": "594bab4d",
   "metadata": {},
   "outputs": [
    {
     "name": "stdout",
     "output_type": "stream",
     "text": [
      "Korelasi antara jumlah penjualan dan harga rata-rata: -0.16019468381165974\n"
     ]
    }
   ],
   "source": [
    "# Menggabungkan kedua Series di atas ke dalam satu DataFrame\n",
    "data = pd.DataFrame({'jumlah_penjualan': category_counts, 'harga_rata_rata': avg_price})\n",
    "\n",
    "# Menghitung korelasi antara jumlah penjualan dan harga rata-rata\n",
    "correlation = data['jumlah_penjualan'].corr(data['harga_rata_rata'])\n",
    "\n",
    "print(f\"Korelasi antara jumlah penjualan dan harga rata-rata: {correlation}\")"
   ]
  },
  {
   "cell_type": "markdown",
   "id": "134bd979",
   "metadata": {},
   "source": [
    "### Explanation\n",
    "Dapat dilihat ternyata harga tidak terlalu berpengaruh pada tingkat penjualan produknya, kategori health_beauty yang merupakan kategori dengan harga relatif mahal (top 3 harga rata-rata termahal) ternyata merupakan kategori produk dengan jumlah penjualan terbesar kedua."
   ]
  },
  {
   "cell_type": "markdown",
   "id": "3d8c34be",
   "metadata": {},
   "source": [
    "## 3 Kota dengan Penjualan Terbesar & 3 Kota dengan Penjualan Terkecil"
   ]
  },
  {
   "cell_type": "markdown",
   "id": "815f61ee",
   "metadata": {},
   "source": [
    "### Akses Database"
   ]
  },
  {
   "cell_type": "code",
   "execution_count": 5,
   "id": "078aa5ee",
   "metadata": {},
   "outputs": [],
   "source": [
    "top3_query = \"\"\"\n",
    "SELECT *\n",
    "FROM \n",
    "    olist_order_dataset ood\n",
    "join \n",
    "    olist_order_customer_dataset oocd using(customer_id)\n",
    "join\n",
    "    olist_order_payments_dataset oopd using(order_id)\n",
    "\n",
    "\"\"\"\n",
    "df_top3 = pd.read_sql(top3_query, conn)"
   ]
  },
  {
   "cell_type": "markdown",
   "id": "96e852db",
   "metadata": {},
   "source": [
    "## EDA"
   ]
  },
  {
   "cell_type": "code",
   "execution_count": 7,
   "id": "90d41626",
   "metadata": {},
   "outputs": [],
   "source": [
    "# Mengambil kolom2 yang diperlukan\n",
    "df_top3 = df_top3[['customer_city','payment_value', 'customer_zip_code_prefix']]"
   ]
  },
  {
   "cell_type": "code",
   "execution_count": 9,
   "id": "788a5b2b",
   "metadata": {},
   "outputs": [
    {
     "name": "stdout",
     "output_type": "stream",
     "text": [
      "<class 'pandas.core.frame.DataFrame'>\n",
      "RangeIndex: 103886 entries, 0 to 103885\n",
      "Data columns (total 3 columns):\n",
      " #   Column                    Non-Null Count   Dtype  \n",
      "---  ------                    --------------   -----  \n",
      " 0   customer_city             103886 non-null  object \n",
      " 1   payment_value             103886 non-null  float64\n",
      " 2   customer_zip_code_prefix  103886 non-null  int64  \n",
      "dtypes: float64(1), int64(1), object(1)\n",
      "memory usage: 2.4+ MB\n"
     ]
    }
   ],
   "source": [
    "df_top3.info()"
   ]
  },
  {
   "cell_type": "code",
   "execution_count": 27,
   "id": "d3ab1e7c",
   "metadata": {},
   "outputs": [
    {
     "data": {
      "text/plain": [
       "array(['sao paulo', 'barreiras', 'vianopolis', ..., 'messias targino',\n",
       "       'campo do tenente', 'nova vicosa'], dtype=object)"
      ]
     },
     "execution_count": 27,
     "metadata": {},
     "output_type": "execute_result"
    }
   ],
   "source": [
    "# Eksplorasi nama-nama kota\n",
    "df_top3['customer_city'].unique()"
   ]
  },
  {
   "cell_type": "code",
   "execution_count": 28,
   "id": "634b1ef5",
   "metadata": {},
   "outputs": [
    {
     "data": {
      "text/plain": [
       "3955"
      ]
     },
     "execution_count": 28,
     "metadata": {},
     "output_type": "execute_result"
    }
   ],
   "source": [
    "#Melihat jumlah kota\n",
    "df_top3['customer_city'].nunique()"
   ]
  },
  {
   "cell_type": "code",
   "execution_count": 11,
   "id": "0c7ccd18",
   "metadata": {},
   "outputs": [
    {
     "data": {
      "text/html": [
       "<div>\n",
       "<style scoped>\n",
       "    .dataframe tbody tr th:only-of-type {\n",
       "        vertical-align: middle;\n",
       "    }\n",
       "\n",
       "    .dataframe tbody tr th {\n",
       "        vertical-align: top;\n",
       "    }\n",
       "\n",
       "    .dataframe thead th {\n",
       "        text-align: right;\n",
       "    }\n",
       "</style>\n",
       "<table border=\"1\" class=\"dataframe\">\n",
       "  <thead>\n",
       "    <tr style=\"text-align: right;\">\n",
       "      <th></th>\n",
       "      <th>payment_value</th>\n",
       "      <th>customer_zip_code_prefix</th>\n",
       "    </tr>\n",
       "  </thead>\n",
       "  <tbody>\n",
       "    <tr>\n",
       "      <th>count</th>\n",
       "      <td>103886.000000</td>\n",
       "      <td>103886.000000</td>\n",
       "    </tr>\n",
       "    <tr>\n",
       "      <th>mean</th>\n",
       "      <td>154.100380</td>\n",
       "      <td>35072.550555</td>\n",
       "    </tr>\n",
       "    <tr>\n",
       "      <th>std</th>\n",
       "      <td>217.494064</td>\n",
       "      <td>29743.491677</td>\n",
       "    </tr>\n",
       "    <tr>\n",
       "      <th>min</th>\n",
       "      <td>0.000000</td>\n",
       "      <td>1003.000000</td>\n",
       "    </tr>\n",
       "    <tr>\n",
       "      <th>25%</th>\n",
       "      <td>56.790000</td>\n",
       "      <td>11366.250000</td>\n",
       "    </tr>\n",
       "    <tr>\n",
       "      <th>50%</th>\n",
       "      <td>100.000000</td>\n",
       "      <td>24360.000000</td>\n",
       "    </tr>\n",
       "    <tr>\n",
       "      <th>75%</th>\n",
       "      <td>171.837500</td>\n",
       "      <td>58418.000000</td>\n",
       "    </tr>\n",
       "    <tr>\n",
       "      <th>max</th>\n",
       "      <td>13664.080000</td>\n",
       "      <td>99990.000000</td>\n",
       "    </tr>\n",
       "  </tbody>\n",
       "</table>\n",
       "</div>"
      ],
      "text/plain": [
       "       payment_value  customer_zip_code_prefix\n",
       "count  103886.000000             103886.000000\n",
       "mean      154.100380              35072.550555\n",
       "std       217.494064              29743.491677\n",
       "min         0.000000               1003.000000\n",
       "25%        56.790000              11366.250000\n",
       "50%       100.000000              24360.000000\n",
       "75%       171.837500              58418.000000\n",
       "max     13664.080000              99990.000000"
      ]
     },
     "execution_count": 11,
     "metadata": {},
     "output_type": "execute_result"
    }
   ],
   "source": [
    "#Eksplorasi Sebaran Data\n",
    "df_top3.describe()"
   ]
  },
  {
   "cell_type": "code",
   "execution_count": 13,
   "id": "fd73a87c",
   "metadata": {},
   "outputs": [
    {
     "data": {
      "image/png": "[encoded data removed]",
      "text/plain": [
       "<Figure size 640x480 with 1 Axes>"
      ]
     },
     "metadata": {},
     "output_type": "display_data"
    }
   ],
   "source": [
    "# Menggambarkan histogram dari kolom \"payment_value\"\n",
    "sns.histplot(df_top3['payment_value'], kde=True)  # KDE (Kernel Density Estimate) untuk melihat distribusi\n",
    "\n",
    "# Atur label sumbu x\n",
    "plt.xlabel(\"Payment Value\")\n",
    "\n",
    "# Atur label sumbu y\n",
    "plt.ylabel(\"Frequency\")\n",
    "\n",
    "# Menampilkan grafik\n",
    "plt.show()"
   ]
  },
  {
   "cell_type": "code",
   "execution_count": 18,
   "id": "441b0b95",
   "metadata": {},
   "outputs": [],
   "source": [
    "# Fungsi untuk menghapus outlier menggunakan metode IQR pada kolom payment value\n",
    "def remove_outliers_iqr(df, column):\n",
    "    Q1 = df[column].quantile(0.25)\n",
    "    Q3 = df[column].quantile(0.75)\n",
    "    IQR = Q3 - Q1\n",
    "    lowerBound = Q1 - 1.5 * IQR\n",
    "    upperBound = Q3 + 1.5 * IQR\n",
    "    df_filtered = df[(df[column] >= lowerBound) & (df[column] <= upperBound)]\n",
    "    return df_filtered\n",
    "\n",
    "df_top3 = remove_outliers_iqr(df_top3, 'payment_value')"
   ]
  },
  {
   "cell_type": "code",
   "execution_count": 19,
   "id": "04747df4",
   "metadata": {},
   "outputs": [
    {
     "data": {
      "image/png": "[encoded data removed]",
      "text/plain": [
       "<Figure size 640x480 with 1 Axes>"
      ]
     },
     "metadata": {},
     "output_type": "display_data"
    }
   ],
   "source": [
    "# Menggambarkan histogram dari kolom \"payment_value\" yang sudah dibuang outliernya\n",
    "sns.histplot(df_top3['payment_value'], kde=True) \n",
    "\n",
    "# Atur label sumbu x\n",
    "plt.xlabel(\"Payment Value\")\n",
    "\n",
    "# Atur label sumbu y\n",
    "plt.ylabel(\"Frequency\")\n",
    "\n",
    "# Menampilkan grafik\n",
    "plt.show()"
   ]
  },
  {
   "cell_type": "code",
   "execution_count": 24,
   "id": "ebd65b1b",
   "metadata": {},
   "outputs": [],
   "source": [
    "# Menghitung total penjualan (payment_value) per kota pelanggan\n",
    "citySales = df_top3.groupby('customer_city')['payment_value'].sum().sort_values(ascending=False)\n",
    "\n",
    "# Mengambil 3 kota dengan total penjualan tertinggi\n",
    "top_3cities = citySales.head(3)\n",
    "\n",
    "# Mengambil 3 kota dengan total penjualan terendah\n",
    "bot_3cities = citySales.tail(3)"
   ]
  },
  {
   "cell_type": "code",
   "execution_count": 43,
   "id": "497d3400",
   "metadata": {},
   "outputs": [
    {
     "data": {
      "image/png": "[encoded data removed]",
      "text/plain": [
       "<Figure size 1000x400 with 1 Axes>"
      ]
     },
     "metadata": {},
     "output_type": "display_data"
    }
   ],
   "source": [
    "# Visualisasi Data\n",
    "plt.figure(figsize=(10, 4))\n",
    "\n",
    "sns.barplot(x=x1, y=y1, palette=\"deep\")\n",
    "# Atur label sumbu y\n",
    "plt.ylabel(\"Total Penjualan\")\n",
    "\n",
    "# Atur label sumbu x\n",
    "plt.xlabel(\"Nama Kota\")\n",
    "\n",
    "# Menampilkan grafik\n",
    "plt.show()\n"
   ]
  },
  {
   "cell_type": "code",
   "execution_count": 52,
   "id": "5c0cb197",
   "metadata": {
    "scrolled": false
   },
   "outputs": [
    {
     "data": {
      "image/png": "[encoded data removed]",
      "text/plain": [
       "<Figure size 1000x400 with 1 Axes>"
      ]
     },
     "metadata": {},
     "output_type": "display_data"
    }
   ],
   "source": [
    "# Visualisasi Data\n",
    "plt.figure(figsize=(10, 4))\n",
    "\n",
    "custom_colors = [\"yellow\", \"grey\", \"red\"]\n",
    "sns.barplot(x=x1, y=y1, palette= custom_colors)\n",
    "\n",
    "# Atur label sumbu y\n",
    "plt.ylabel(\"Total Penjualan\")\n",
    "\n",
    "# Atur label sumbu x\n",
    "plt.xlabel(\"Nama Kota\")\n",
    "\n",
    "# Menampilkan grafik\n",
    "plt.show()"
   ]
  },
  {
   "cell_type": "markdown",
   "id": "9f446b46",
   "metadata": {},
   "source": [
    "### Analisis Korelasi Banyaknya trasnsaksi dengan total nominal transaksi"
   ]
  },
  {
   "cell_type": "code",
   "execution_count": 60,
   "id": "6a4d568f",
   "metadata": {},
   "outputs": [
    {
     "data": {
      "text/plain": [
       "customer_city\n",
       "sao paulo                 14878\n",
       "rio de janeiro             6442\n",
       "belo horizonte             2620\n",
       "brasilia                   1973\n",
       "curitiba                   1405\n",
       "                          ...  \n",
       "agua preta                    1\n",
       "traipu                        1\n",
       "quilometro 14 do mutum        1\n",
       "vale do sol                   1\n",
       "nova vicosa                   1\n",
       "Name: count, Length: 3955, dtype: int64"
      ]
     },
     "execution_count": 60,
     "metadata": {},
     "output_type": "execute_result"
    }
   ],
   "source": [
    "df_top3['customer_city'].value_counts().sort_values(ascending=False)"
   ]
  },
  {
   "cell_type": "code",
   "execution_count": 82,
   "id": "20f5e3a9",
   "metadata": {},
   "outputs": [
    {
     "name": "stdout",
     "output_type": "stream",
     "text": [
      "Korelasi antara jumlah total nominal transaksi dan Jumlah total transaksi pada setiap kota: 0.998585751059122\n"
     ]
    }
   ],
   "source": [
    "\n",
    "citySales = df_top3.groupby('customer_city')['payment_value'].sum()\n",
    "sell_counts = df_top3['customer_city'].value_counts()\n",
    "\n",
    "# Menggabungkan kedua Series di atas ke dalam satu DataFrame\n",
    "data2 = pd.DataFrame({'jumlah penjualan': sell_counts, 'total penjualan': citySales})\n",
    "\n",
    "# Menghitung korelasi antara jumlah penjualan dan harga rata-rata\n",
    "correlation2 = data2['jumlah penjualan'].corr(data2['total penjualan'])\n",
    "print(f\"Korelasi antara jumlah total nominal transaksi dan Jumlah total transaksi pada setiap kota: {correlation2}\")"
   ]
  },
  {
   "cell_type": "markdown",
   "id": "6c8f80fe",
   "metadata": {},
   "source": [
    "### Explanation\n",
    "Jumlah transaksi berbanding lurus dengan jumlah total nominal transaksi yang berlangsung pada suatu daerah. Semakin banyak transaski maka total nominalnya juga semain besar, hal ini berarti peran kuantitas produk atau banyaknya jumlah produk yang dibeli memiliki pengaruh terhadap total pendapatan perusahaan pada setiap kota. Kedepannya lebih baik jika memperbanyak produk dengan harga yang relatif terjangkau daripada menjual produk luxury dengan harga mahal untuk 1 produk."
   ]
  },
  {
   "cell_type": "markdown",
   "id": "4c106fb6",
   "metadata": {},
   "source": [
    "## Tingkat Kepuasan Per Produk"
   ]
  },
  {
   "cell_type": "markdown",
   "id": "298b6416",
   "metadata": {},
   "source": [
    "### Akses Database"
   ]
  },
  {
   "cell_type": "code",
   "execution_count": 9,
   "id": "065d7fc9",
   "metadata": {},
   "outputs": [],
   "source": [
    "Rat_Q = \"\"\"\n",
    "SELECT *\n",
    "FROM \n",
    "    olist_order_reviews_dataset oord\n",
    "join \n",
    "    olist_order_dataset ood using(order_id)\n",
    "join\n",
    "    olist_order_items_dataset ooid using(order_id)\n",
    "join \n",
    "    olist_products_dataset using(product_id)\n",
    "join \n",
    "    product_category_name_translation using(product_category_name)\n",
    "\n",
    "\"\"\"\n",
    "df_rating = pd.read_sql(Rat_Q, conn)"
   ]
  },
  {
   "cell_type": "markdown",
   "id": "3083b106",
   "metadata": {},
   "source": [
    "### EDA"
   ]
  },
  {
   "cell_type": "code",
   "execution_count": 10,
   "id": "265e5db8",
   "metadata": {},
   "outputs": [
    {
     "data": {
      "text/html": [
       "<div>\n",
       "<style scoped>\n",
       "    .dataframe tbody tr th:only-of-type {\n",
       "        vertical-align: middle;\n",
       "    }\n",
       "\n",
       "    .dataframe tbody tr th {\n",
       "        vertical-align: top;\n",
       "    }\n",
       "\n",
       "    .dataframe thead th {\n",
       "        text-align: right;\n",
       "    }\n",
       "</style>\n",
       "<table border=\"1\" class=\"dataframe\">\n",
       "  <thead>\n",
       "    <tr style=\"text-align: right;\">\n",
       "      <th></th>\n",
       "      <th>index</th>\n",
       "      <th>review_id</th>\n",
       "      <th>order_id</th>\n",
       "      <th>review_score</th>\n",
       "      <th>review_comment_title</th>\n",
       "      <th>review_comment_message</th>\n",
       "      <th>review_creation_date</th>\n",
       "      <th>review_answer_timestamp</th>\n",
       "      <th>index</th>\n",
       "      <th>customer_id</th>\n",
       "      <th>...</th>\n",
       "      <th>product_category_name</th>\n",
       "      <th>product_name_lenght</th>\n",
       "      <th>product_description_lenght</th>\n",
       "      <th>product_photos_qty</th>\n",
       "      <th>product_weight_g</th>\n",
       "      <th>product_length_cm</th>\n",
       "      <th>product_height_cm</th>\n",
       "      <th>product_width_cm</th>\n",
       "      <th>index</th>\n",
       "      <th>product_category_name_english</th>\n",
       "    </tr>\n",
       "  </thead>\n",
       "  <tbody>\n",
       "    <tr>\n",
       "      <th>0</th>\n",
       "      <td>0</td>\n",
       "      <td>7bc2406110b926393aa56f80a40eba40</td>\n",
       "      <td>73fc7af87114b39712e6da79b0a377eb</td>\n",
       "      <td>4</td>\n",
       "      <td>None</td>\n",
       "      <td>None</td>\n",
       "      <td>2018-01-18 00:00:00</td>\n",
       "      <td>2018-01-18 21:46:59</td>\n",
       "      <td>1871</td>\n",
       "      <td>41dcb106f807e993532d446263290104</td>\n",
       "      <td>...</td>\n",
       "      <td>esporte_lazer</td>\n",
       "      <td>42.0</td>\n",
       "      <td>858.0</td>\n",
       "      <td>1.0</td>\n",
       "      <td>1300.0</td>\n",
       "      <td>30.0</td>\n",
       "      <td>30.0</td>\n",
       "      <td>35.0</td>\n",
       "      <td>5</td>\n",
       "      <td>sports_leisure</td>\n",
       "    </tr>\n",
       "    <tr>\n",
       "      <th>1</th>\n",
       "      <td>0</td>\n",
       "      <td>7bc2406110b926393aa56f80a40eba40</td>\n",
       "      <td>73fc7af87114b39712e6da79b0a377eb</td>\n",
       "      <td>4</td>\n",
       "      <td>None</td>\n",
       "      <td>None</td>\n",
       "      <td>2018-01-18 00:00:00</td>\n",
       "      <td>2018-01-18 21:46:59</td>\n",
       "      <td>1871</td>\n",
       "      <td>41dcb106f807e993532d446263290104</td>\n",
       "      <td>...</td>\n",
       "      <td>esporte_lazer</td>\n",
       "      <td>42.0</td>\n",
       "      <td>858.0</td>\n",
       "      <td>1.0</td>\n",
       "      <td>1300.0</td>\n",
       "      <td>30.0</td>\n",
       "      <td>30.0</td>\n",
       "      <td>35.0</td>\n",
       "      <td>5</td>\n",
       "      <td>sports_leisure</td>\n",
       "    </tr>\n",
       "    <tr>\n",
       "      <th>2</th>\n",
       "      <td>1</td>\n",
       "      <td>80e641a11e56f04c1ad469d5645fdfde</td>\n",
       "      <td>a548910a1c6147796b98fdf73dbeba33</td>\n",
       "      <td>5</td>\n",
       "      <td>None</td>\n",
       "      <td>None</td>\n",
       "      <td>2018-03-10 00:00:00</td>\n",
       "      <td>2018-03-11 03:05:13</td>\n",
       "      <td>90488</td>\n",
       "      <td>8a2e7ef9053dea531e4dc76bd6d853e6</td>\n",
       "      <td>...</td>\n",
       "      <td>informatica_acessorios</td>\n",
       "      <td>47.0</td>\n",
       "      <td>493.0</td>\n",
       "      <td>1.0</td>\n",
       "      <td>245.0</td>\n",
       "      <td>19.0</td>\n",
       "      <td>14.0</td>\n",
       "      <td>14.0</td>\n",
       "      <td>1</td>\n",
       "      <td>computers_accessories</td>\n",
       "    </tr>\n",
       "    <tr>\n",
       "      <th>3</th>\n",
       "      <td>2</td>\n",
       "      <td>228ce5500dc1d8e020d8d1322874b6f0</td>\n",
       "      <td>f9e4b658b201a9f2ecdecbb34bed034b</td>\n",
       "      <td>5</td>\n",
       "      <td>None</td>\n",
       "      <td>None</td>\n",
       "      <td>2018-02-17 00:00:00</td>\n",
       "      <td>2018-02-18 14:36:24</td>\n",
       "      <td>78882</td>\n",
       "      <td>e226dfed6544df5b7b87a48208690feb</td>\n",
       "      <td>...</td>\n",
       "      <td>informatica_acessorios</td>\n",
       "      <td>59.0</td>\n",
       "      <td>1893.0</td>\n",
       "      <td>1.0</td>\n",
       "      <td>6550.0</td>\n",
       "      <td>20.0</td>\n",
       "      <td>20.0</td>\n",
       "      <td>20.0</td>\n",
       "      <td>1</td>\n",
       "      <td>computers_accessories</td>\n",
       "    </tr>\n",
       "    <tr>\n",
       "      <th>4</th>\n",
       "      <td>3</td>\n",
       "      <td>e64fb393e7b32834bb789ff8bb30750e</td>\n",
       "      <td>658677c97b385a9be170737859d3511b</td>\n",
       "      <td>5</td>\n",
       "      <td>None</td>\n",
       "      <td>Recebi bem antes do prazo estipulado.</td>\n",
       "      <td>2017-04-21 00:00:00</td>\n",
       "      <td>2017-04-21 22:02:06</td>\n",
       "      <td>27557</td>\n",
       "      <td>de6dff97e5f1ba84a3cd9a3bc97df5f6</td>\n",
       "      <td>...</td>\n",
       "      <td>ferramentas_jardim</td>\n",
       "      <td>33.0</td>\n",
       "      <td>2188.0</td>\n",
       "      <td>2.0</td>\n",
       "      <td>7650.0</td>\n",
       "      <td>20.0</td>\n",
       "      <td>20.0</td>\n",
       "      <td>20.0</td>\n",
       "      <td>16</td>\n",
       "      <td>garden_tools</td>\n",
       "    </tr>\n",
       "    <tr>\n",
       "      <th>...</th>\n",
       "      <td>...</td>\n",
       "      <td>...</td>\n",
       "      <td>...</td>\n",
       "      <td>...</td>\n",
       "      <td>...</td>\n",
       "      <td>...</td>\n",
       "      <td>...</td>\n",
       "      <td>...</td>\n",
       "      <td>...</td>\n",
       "      <td>...</td>\n",
       "      <td>...</td>\n",
       "      <td>...</td>\n",
       "      <td>...</td>\n",
       "      <td>...</td>\n",
       "      <td>...</td>\n",
       "      <td>...</td>\n",
       "      <td>...</td>\n",
       "      <td>...</td>\n",
       "      <td>...</td>\n",
       "      <td>...</td>\n",
       "      <td>...</td>\n",
       "    </tr>\n",
       "    <tr>\n",
       "      <th>110745</th>\n",
       "      <td>99219</td>\n",
       "      <td>574ed12dd733e5fa530cfd4bbf39d7c9</td>\n",
       "      <td>2a8c23fee101d4d5662fa670396eb8da</td>\n",
       "      <td>5</td>\n",
       "      <td>None</td>\n",
       "      <td>None</td>\n",
       "      <td>2018-07-07 00:00:00</td>\n",
       "      <td>2018-07-14 17:18:30</td>\n",
       "      <td>66506</td>\n",
       "      <td>d8c466a3e7c4cda36cd4ae7d577f44f4</td>\n",
       "      <td>...</td>\n",
       "      <td>moveis_decoracao</td>\n",
       "      <td>56.0</td>\n",
       "      <td>623.0</td>\n",
       "      <td>1.0</td>\n",
       "      <td>7250.0</td>\n",
       "      <td>100.0</td>\n",
       "      <td>25.0</td>\n",
       "      <td>25.0</td>\n",
       "      <td>4</td>\n",
       "      <td>furniture_decor</td>\n",
       "    </tr>\n",
       "    <tr>\n",
       "      <th>110746</th>\n",
       "      <td>99220</td>\n",
       "      <td>f3897127253a9592a73be9bdfdf4ed7a</td>\n",
       "      <td>22ec9f0669f784db00fa86d035cf8602</td>\n",
       "      <td>5</td>\n",
       "      <td>None</td>\n",
       "      <td>None</td>\n",
       "      <td>2017-12-09 00:00:00</td>\n",
       "      <td>2017-12-11 20:06:42</td>\n",
       "      <td>84918</td>\n",
       "      <td>d0d7086dea6fcf42b9b690b9f3745c58</td>\n",
       "      <td>...</td>\n",
       "      <td>brinquedos</td>\n",
       "      <td>51.0</td>\n",
       "      <td>465.0</td>\n",
       "      <td>1.0</td>\n",
       "      <td>2363.0</td>\n",
       "      <td>23.0</td>\n",
       "      <td>27.0</td>\n",
       "      <td>19.0</td>\n",
       "      <td>14</td>\n",
       "      <td>toys</td>\n",
       "    </tr>\n",
       "    <tr>\n",
       "      <th>110747</th>\n",
       "      <td>99221</td>\n",
       "      <td>b3de70c89b1510c4cd3d0649fd302472</td>\n",
       "      <td>55d4004744368f5571d1f590031933e4</td>\n",
       "      <td>5</td>\n",
       "      <td>None</td>\n",
       "      <td>Excelente mochila, entrega super rápida. Super...</td>\n",
       "      <td>2018-03-22 00:00:00</td>\n",
       "      <td>2018-03-23 09:10:43</td>\n",
       "      <td>9817</td>\n",
       "      <td>fcc7b1caafe3b77fd587bab964c4d1fb</td>\n",
       "      <td>...</td>\n",
       "      <td>papelaria</td>\n",
       "      <td>45.0</td>\n",
       "      <td>283.0</td>\n",
       "      <td>3.0</td>\n",
       "      <td>4100.0</td>\n",
       "      <td>40.0</td>\n",
       "      <td>37.0</td>\n",
       "      <td>29.0</td>\n",
       "      <td>12</td>\n",
       "      <td>stationery</td>\n",
       "    </tr>\n",
       "    <tr>\n",
       "      <th>110748</th>\n",
       "      <td>99222</td>\n",
       "      <td>1adeb9d84d72fe4e337617733eb85149</td>\n",
       "      <td>7725825d039fc1f0ceb7635e3f7d9206</td>\n",
       "      <td>4</td>\n",
       "      <td>None</td>\n",
       "      <td>None</td>\n",
       "      <td>2018-07-01 00:00:00</td>\n",
       "      <td>2018-07-02 12:59:13</td>\n",
       "      <td>29006</td>\n",
       "      <td>3aa00401736823c73e9fe8683328fa6b</td>\n",
       "      <td>...</td>\n",
       "      <td>esporte_lazer</td>\n",
       "      <td>58.0</td>\n",
       "      <td>998.0</td>\n",
       "      <td>5.0</td>\n",
       "      <td>600.0</td>\n",
       "      <td>16.0</td>\n",
       "      <td>10.0</td>\n",
       "      <td>11.0</td>\n",
       "      <td>5</td>\n",
       "      <td>sports_leisure</td>\n",
       "    </tr>\n",
       "    <tr>\n",
       "      <th>110749</th>\n",
       "      <td>99223</td>\n",
       "      <td>efe49f1d6f951dd88b51e6ccd4cc548f</td>\n",
       "      <td>90531360ecb1eec2a1fbb265a0db0508</td>\n",
       "      <td>1</td>\n",
       "      <td>None</td>\n",
       "      <td>meu produto chegou e ja tenho que devolver, po...</td>\n",
       "      <td>2017-07-03 00:00:00</td>\n",
       "      <td>2017-07-03 21:01:49</td>\n",
       "      <td>51236</td>\n",
       "      <td>f6fff47846276bed044b63474bd38884</td>\n",
       "      <td>...</td>\n",
       "      <td>informatica_acessorios</td>\n",
       "      <td>56.0</td>\n",
       "      <td>482.0</td>\n",
       "      <td>2.0</td>\n",
       "      <td>500.0</td>\n",
       "      <td>35.0</td>\n",
       "      <td>5.0</td>\n",
       "      <td>15.0</td>\n",
       "      <td>1</td>\n",
       "      <td>computers_accessories</td>\n",
       "    </tr>\n",
       "  </tbody>\n",
       "</table>\n",
       "<p>110750 rows × 34 columns</p>\n",
       "</div>"
      ],
      "text/plain": [
       "        index                         review_id  \\\n",
       "0           0  7bc2406110b926393aa56f80a40eba40   \n",
       "1           0  7bc2406110b926393aa56f80a40eba40   \n",
       "2           1  80e641a11e56f04c1ad469d5645fdfde   \n",
       "3           2  228ce5500dc1d8e020d8d1322874b6f0   \n",
       "4           3  e64fb393e7b32834bb789ff8bb30750e   \n",
       "...       ...                               ...   \n",
       "110745  99219  574ed12dd733e5fa530cfd4bbf39d7c9   \n",
       "110746  99220  f3897127253a9592a73be9bdfdf4ed7a   \n",
       "110747  99221  b3de70c89b1510c4cd3d0649fd302472   \n",
       "110748  99222  1adeb9d84d72fe4e337617733eb85149   \n",
       "110749  99223  efe49f1d6f951dd88b51e6ccd4cc548f   \n",
       "\n",
       "                                order_id  review_score review_comment_title  \\\n",
       "0       73fc7af87114b39712e6da79b0a377eb             4                 None   \n",
       "1       73fc7af87114b39712e6da79b0a377eb             4                 None   \n",
       "2       a548910a1c6147796b98fdf73dbeba33             5                 None   \n",
       "3       f9e4b658b201a9f2ecdecbb34bed034b             5                 None   \n",
       "4       658677c97b385a9be170737859d3511b             5                 None   \n",
       "...                                  ...           ...                  ...   \n",
       "110745  2a8c23fee101d4d5662fa670396eb8da             5                 None   \n",
       "110746  22ec9f0669f784db00fa86d035cf8602             5                 None   \n",
       "110747  55d4004744368f5571d1f590031933e4             5                 None   \n",
       "110748  7725825d039fc1f0ceb7635e3f7d9206             4                 None   \n",
       "110749  90531360ecb1eec2a1fbb265a0db0508             1                 None   \n",
       "\n",
       "                                   review_comment_message  \\\n",
       "0                                                    None   \n",
       "1                                                    None   \n",
       "2                                                    None   \n",
       "3                                                    None   \n",
       "4                   Recebi bem antes do prazo estipulado.   \n",
       "...                                                   ...   \n",
       "110745                                               None   \n",
       "110746                                               None   \n",
       "110747  Excelente mochila, entrega super rápida. Super...   \n",
       "110748                                               None   \n",
       "110749  meu produto chegou e ja tenho que devolver, po...   \n",
       "\n",
       "       review_creation_date review_answer_timestamp  index  \\\n",
       "0       2018-01-18 00:00:00     2018-01-18 21:46:59   1871   \n",
       "1       2018-01-18 00:00:00     2018-01-18 21:46:59   1871   \n",
       "2       2018-03-10 00:00:00     2018-03-11 03:05:13  90488   \n",
       "3       2018-02-17 00:00:00     2018-02-18 14:36:24  78882   \n",
       "4       2017-04-21 00:00:00     2017-04-21 22:02:06  27557   \n",
       "...                     ...                     ...    ...   \n",
       "110745  2018-07-07 00:00:00     2018-07-14 17:18:30  66506   \n",
       "110746  2017-12-09 00:00:00     2017-12-11 20:06:42  84918   \n",
       "110747  2018-03-22 00:00:00     2018-03-23 09:10:43   9817   \n",
       "110748  2018-07-01 00:00:00     2018-07-02 12:59:13  29006   \n",
       "110749  2017-07-03 00:00:00     2017-07-03 21:01:49  51236   \n",
       "\n",
       "                             customer_id  ...   product_category_name  \\\n",
       "0       41dcb106f807e993532d446263290104  ...           esporte_lazer   \n",
       "1       41dcb106f807e993532d446263290104  ...           esporte_lazer   \n",
       "2       8a2e7ef9053dea531e4dc76bd6d853e6  ...  informatica_acessorios   \n",
       "3       e226dfed6544df5b7b87a48208690feb  ...  informatica_acessorios   \n",
       "4       de6dff97e5f1ba84a3cd9a3bc97df5f6  ...      ferramentas_jardim   \n",
       "...                                  ...  ...                     ...   \n",
       "110745  d8c466a3e7c4cda36cd4ae7d577f44f4  ...        moveis_decoracao   \n",
       "110746  d0d7086dea6fcf42b9b690b9f3745c58  ...              brinquedos   \n",
       "110747  fcc7b1caafe3b77fd587bab964c4d1fb  ...               papelaria   \n",
       "110748  3aa00401736823c73e9fe8683328fa6b  ...           esporte_lazer   \n",
       "110749  f6fff47846276bed044b63474bd38884  ...  informatica_acessorios   \n",
       "\n",
       "       product_name_lenght product_description_lenght product_photos_qty  \\\n",
       "0                     42.0                      858.0                1.0   \n",
       "1                     42.0                      858.0                1.0   \n",
       "2                     47.0                      493.0                1.0   \n",
       "3                     59.0                     1893.0                1.0   \n",
       "4                     33.0                     2188.0                2.0   \n",
       "...                    ...                        ...                ...   \n",
       "110745                56.0                      623.0                1.0   \n",
       "110746                51.0                      465.0                1.0   \n",
       "110747                45.0                      283.0                3.0   \n",
       "110748                58.0                      998.0                5.0   \n",
       "110749                56.0                      482.0                2.0   \n",
       "\n",
       "       product_weight_g product_length_cm  product_height_cm  \\\n",
       "0                1300.0              30.0               30.0   \n",
       "1                1300.0              30.0               30.0   \n",
       "2                 245.0              19.0               14.0   \n",
       "3                6550.0              20.0               20.0   \n",
       "4                7650.0              20.0               20.0   \n",
       "...                 ...               ...                ...   \n",
       "110745           7250.0             100.0               25.0   \n",
       "110746           2363.0              23.0               27.0   \n",
       "110747           4100.0              40.0               37.0   \n",
       "110748            600.0              16.0               10.0   \n",
       "110749            500.0              35.0                5.0   \n",
       "\n",
       "        product_width_cm index product_category_name_english  \n",
       "0                   35.0     5                sports_leisure  \n",
       "1                   35.0     5                sports_leisure  \n",
       "2                   14.0     1         computers_accessories  \n",
       "3                   20.0     1         computers_accessories  \n",
       "4                   20.0    16                  garden_tools  \n",
       "...                  ...   ...                           ...  \n",
       "110745              25.0     4               furniture_decor  \n",
       "110746              19.0    14                          toys  \n",
       "110747              29.0    12                    stationery  \n",
       "110748              11.0     5                sports_leisure  \n",
       "110749              15.0     1         computers_accessories  \n",
       "\n",
       "[110750 rows x 34 columns]"
      ]
     },
     "execution_count": 10,
     "metadata": {},
     "output_type": "execute_result"
    }
   ],
   "source": [
    "df_rating"
   ]
  },
  {
   "cell_type": "code",
   "execution_count": 11,
   "id": "2bb362ef",
   "metadata": {},
   "outputs": [],
   "source": [
    "df_rating = df_rating[['review_score','product_category_name_english']]"
   ]
  },
  {
   "cell_type": "code",
   "execution_count": 13,
   "id": "41ec3f14",
   "metadata": {},
   "outputs": [
    {
     "name": "stdout",
     "output_type": "stream",
     "text": [
      "<class 'pandas.core.frame.DataFrame'>\n",
      "RangeIndex: 110750 entries, 0 to 110749\n",
      "Data columns (total 2 columns):\n",
      " #   Column                         Non-Null Count   Dtype \n",
      "---  ------                         --------------   ----- \n",
      " 0   review_score                   110750 non-null  int64 \n",
      " 1   product_category_name_english  110750 non-null  object\n",
      "dtypes: int64(1), object(1)\n",
      "memory usage: 1.7+ MB\n"
     ]
    }
   ],
   "source": [
    "df_rating.info()"
   ]
  },
  {
   "cell_type": "code",
   "execution_count": 15,
   "id": "82bb7204",
   "metadata": {},
   "outputs": [
    {
     "data": {
      "text/plain": [
       "5"
      ]
     },
     "execution_count": 15,
     "metadata": {},
     "output_type": "execute_result"
    }
   ],
   "source": [
    "df_rating['review_score'].nunique()"
   ]
  },
  {
   "cell_type": "code",
   "execution_count": 16,
   "id": "60f49332",
   "metadata": {},
   "outputs": [
    {
     "data": {
      "text/plain": [
       "array([4, 5, 1, 3, 2], dtype=int64)"
      ]
     },
     "execution_count": 16,
     "metadata": {},
     "output_type": "execute_result"
    }
   ],
   "source": [
    "df_rating['review_score'].unique()"
   ]
  },
  {
   "cell_type": "code",
   "execution_count": 17,
   "id": "53fa989f",
   "metadata": {},
   "outputs": [
    {
     "data": {
      "text/plain": [
       "review_score                     0\n",
       "product_category_name_english    0\n",
       "dtype: int64"
      ]
     },
     "execution_count": 17,
     "metadata": {},
     "output_type": "execute_result"
    }
   ],
   "source": [
    "# Mencari nilai null\n",
    "df_rating.isna().sum()"
   ]
  },
  {
   "cell_type": "code",
   "execution_count": 23,
   "id": "7241f862",
   "metadata": {},
   "outputs": [],
   "source": [
    "poductRating = df_rating.groupby('product_category_name_english')['review_score'].mean()"
   ]
  },
  {
   "cell_type": "code",
   "execution_count": 30,
   "id": "6001dc4a",
   "metadata": {},
   "outputs": [
    {
     "data": {
      "text/plain": [
       "product_category_name_english\n",
       "cds_dvds_musicals            4.642857\n",
       "fashion_childrens_clothes    4.500000\n",
       "books_general_interest       4.446266\n",
       "costruction_tools_tools      4.444444\n",
       "flowers                      4.419355\n",
       "                               ...   \n",
       "fashion_male_clothing        3.641221\n",
       "home_comfort_2               3.629630\n",
       "office_furniture             3.493183\n",
       "diapers_and_hygiene          3.256410\n",
       "security_and_services        2.500000\n",
       "Name: review_score, Length: 71, dtype: float64"
      ]
     },
     "execution_count": 30,
     "metadata": {},
     "output_type": "execute_result"
    }
   ],
   "source": [
    "poductRating.sort_values(ascending=False)"
   ]
  },
  {
   "cell_type": "code",
   "execution_count": 74,
   "id": "45db1f70",
   "metadata": {},
   "outputs": [],
   "source": [
    "topRating = poductRating.sort_values(ascending=False).head(10)"
   ]
  },
  {
   "cell_type": "code",
   "execution_count": 75,
   "id": "738494f6",
   "metadata": {},
   "outputs": [
    {
     "data": {
      "text/plain": [
       "product_category_name_english\n",
       "cds_dvds_musicals                        4.642857\n",
       "fashion_childrens_clothes                4.500000\n",
       "books_general_interest                   4.446266\n",
       "costruction_tools_tools                  4.444444\n",
       "flowers                                  4.419355\n",
       "books_imported                           4.400000\n",
       "books_technical                          4.368421\n",
       "food_drink                               4.315412\n",
       "luggage_accessories                      4.315257\n",
       "small_appliances_home_oven_and_coffee    4.302632\n",
       "Name: review_score, dtype: float64"
      ]
     },
     "execution_count": 75,
     "metadata": {},
     "output_type": "execute_result"
    }
   ],
   "source": [
    "topRating"
   ]
  },
  {
   "cell_type": "code",
   "execution_count": 114,
   "id": "4febe13e",
   "metadata": {},
   "outputs": [
    {
     "data": {
      "image/png": "[encoded data removed]",
      "text/plain": [
       "<Figure size 1000x600 with 1 Axes>"
      ]
     },
     "metadata": {},
     "output_type": "display_data"
    }
   ],
   "source": [
    "# Membuat bar chart dengan seaborn\n",
    "plt.figure(figsize=(10, 6))  # Mengatur ukuran diagram\n",
    "ax = sns.barplot(x=topRating.values, y=topRating.index, alpha=0.7)\n",
    "\n",
    "\n",
    "# Menambahkan label sumbu dan judul\n",
    "plt.xlabel('Kategori')\n",
    "plt.ylabel('Rata-rata Rating')\n",
    "plt.title('10 Produk dengan Rating Terbaik')\n",
    "\n",
    "# Menampilkan nilai pada setiap batang\n",
    "for p in ax.patches:\n",
    "    ax.annotate(f'{p.get_width():.2f}', (p.get_width(), p.get_y() + p.get_height() / 2), ha='center', va='center', fontsize=10, color='black')\n",
    "\n",
    "# Menampilkan diagram batang\n",
    "plt.show()"
   ]
  },
  {
   "cell_type": "markdown",
   "id": "1954e276",
   "metadata": {},
   "source": [
    "### Analisis Rating Produk"
   ]
  },
  {
   "cell_type": "code",
   "execution_count": 104,
   "id": "cc6b73c9",
   "metadata": {},
   "outputs": [
    {
     "data": {
      "text/plain": [
       "count    10.000000\n",
       "mean      4.415464\n",
       "std       0.103222\n",
       "min       4.302632\n",
       "25%       4.328664\n",
       "50%       4.409677\n",
       "75%       4.445811\n",
       "max       4.642857\n",
       "Name: review_score, dtype: float64"
      ]
     },
     "execution_count": 104,
     "metadata": {},
     "output_type": "execute_result"
    }
   ],
   "source": [
    "topRating.describe()"
   ]
  },
  {
   "cell_type": "code",
   "execution_count": 95,
   "id": "02d7fb3d",
   "metadata": {},
   "outputs": [],
   "source": [
    "# Ambil rating dari top 10 produkter laku\n",
    "top10_prod = ['sports_leisure', 'bed_bath_table', 'health_beauty', 'furniture_decor', 'computers_accessories','housewares', 'watches_gifts', 'telephony', 'garden_tools','auto']\n",
    "top10_rat = poductRating.loc[top10_prod].sort_values(ascending=False)"
   ]
  },
  {
   "cell_type": "code",
   "execution_count": 97,
   "id": "f2e29338",
   "metadata": {},
   "outputs": [
    {
     "data": {
      "text/plain": [
       "count    10.000000\n",
       "mean      4.011002\n",
       "std       0.087021\n",
       "min       3.895663\n",
       "25%       3.934831\n",
       "50%       4.030947\n",
       "75%       4.062888\n",
       "max       4.142768\n",
       "Name: review_score, dtype: float64"
      ]
     },
     "execution_count": 97,
     "metadata": {},
     "output_type": "execute_result"
    }
   ],
   "source": [
    "top10_rat.describe()"
   ]
  },
  {
   "cell_type": "code",
   "execution_count": 113,
   "id": "ea25ed12",
   "metadata": {},
   "outputs": [
    {
     "data": {
      "image/png": "[encoded data removed]",
      "text/plain": [
       "<Figure size 1000x600 with 1 Axes>"
      ]
     },
     "metadata": {},
     "output_type": "display_data"
    }
   ],
   "source": [
    "# Membuat bar chart dengan seaborn\n",
    "plt.figure(figsize=(10, 6))  # Mengatur ukuran diagram\n",
    "ax = sns.barplot(x=top10_rat.values, y=top10_rat.index, alpha=0.7)\n",
    "\n",
    "\n",
    "# Menambahkan label sumbu dan judul\n",
    "plt.xlabel('Kategori Produk')\n",
    "plt.ylabel('Rata-rata Rating')\n",
    "plt.title('Rating 10 Produk dengan Penjualan Terbanyak')\n",
    "\n",
    "# Menampilkan nilai pada setiap batang\n",
    "for p in ax.patches:\n",
    "    ax.annotate(f'{p.get_width():.2f}', (p.get_width(), p.get_y() + p.get_height() / 2), ha='center', va='center', fontsize=10, color='black')\n",
    "\n",
    "# Menampilkan diagram batang\n",
    "plt.show()"
   ]
  },
  {
   "cell_type": "markdown",
   "id": "764368c9",
   "metadata": {},
   "source": [
    "### Explanation"
   ]
  },
  {
   "cell_type": "markdown",
   "id": "1a244e1c",
   "metadata": {},
   "source": [
    "Ternyata produk dengan rating tinggi bukan produk yang paling banyak terjual (top 10), ini berarti produk-produk yang memiliki rating tinggi berpotensi untuk menjadi produk yang bisa saja memiliki jumlah penjualan yang tinggi, karena rating yang tinggi berarti tingkat kepuasan terhadap produk tersebut juga tinggi. Kepuasan yang tinggi sudah menjadi modal tersendiri pada produk-produk tersebut, sehingga kedepannya diperlukan penambahan atau peningkatan penjualan produk-produk yang memiliki nilai rating yang tinggi"
   ]
  },
  {
   "cell_type": "code",
   "execution_count": null,
   "id": "f4e15fd3",
   "metadata": {},
   "outputs": [],
   "source": []
  }
 ],
 "metadata": {
  "kernelspec": {
   "display_name": "Python 3 (ipykernel)",
   "language": "python",
   "name": "python3"
  },
  "language_info": {
   "codemirror_mode": {
    "name": "ipython",
    "version": 3
   },
   "file_extension": ".py",
   "mimetype": "text/x-python",
   "name": "python",
   "nbconvert_exporter": "python",
   "pygments_lexer": "ipython3",
   "version": "3.10.9"
  }
 },
 "nbformat": 4,
 "nbformat_minor": 5
}
